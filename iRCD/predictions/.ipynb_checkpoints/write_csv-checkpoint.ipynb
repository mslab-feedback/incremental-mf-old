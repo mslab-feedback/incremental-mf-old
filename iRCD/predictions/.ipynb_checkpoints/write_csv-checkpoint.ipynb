{
 "cells": [
  {
   "cell_type": "code",
   "execution_count": 1,
   "metadata": {},
   "outputs": [],
   "source": [
    "import csv"
   ]
  },
  {
   "cell_type": "code",
   "execution_count": 4,
   "metadata": {},
   "outputs": [],
   "source": [
    "with open(\"predict_movielens_offline_100.csv\") as f:\n",
    "    rows = csv.reader(f)\n",
    "    with open(\"predict_movielens_offline.csv\", \"w\", newline = \"\") as f_2:\n",
    "        w = csv.writer(f_2)\n",
    "        for row in rows:\n",
    "            row[1] = \"123\"\n",
    "            w.writerow(row)"
   ]
  },
  {
   "cell_type": "code",
   "execution_count": null,
   "metadata": {},
   "outputs": [],
   "source": []
  }
 ],
 "metadata": {
  "kernelspec": {
   "display_name": "Python 3",
   "language": "python",
   "name": "python3"
  },
  "language_info": {
   "codemirror_mode": {
    "name": "ipython",
    "version": 3
   },
   "file_extension": ".py",
   "mimetype": "text/x-python",
   "name": "python",
   "nbconvert_exporter": "python",
   "pygments_lexer": "ipython3",
   "version": "3.5.2"
  }
 },
 "nbformat": 4,
 "nbformat_minor": 2
}
