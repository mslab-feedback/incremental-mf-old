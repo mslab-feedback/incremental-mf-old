{
 "cells": [
  {
   "cell_type": "markdown",
   "metadata": {},
   "source": [
    "## Ref"
   ]
  },
  {
   "cell_type": "markdown",
   "metadata": {},
   "source": [
    "+ Dynamic Matrix Factorization with Priors on Unknown Values\n",
    "+ https://arxiv.org/pdf/1507.06452.pdf"
   ]
  },
  {
   "cell_type": "markdown",
   "metadata": {},
   "source": [
    "### imports"
   ]
  },
  {
   "cell_type": "code",
   "execution_count": 1,
   "metadata": {},
   "outputs": [],
   "source": [
    "import numpy as np\n",
    "import csv\n",
    "import random\n",
    "import time\n",
    "import copy\n",
    "import pickle"
   ]
  },
  {
   "cell_type": "markdown",
   "metadata": {},
   "source": [
    "### Load data"
   ]
  },
  {
   "cell_type": "code",
   "execution_count": 12,
   "metadata": {},
   "outputs": [],
   "source": [
    "train = []\n",
    "update = []\n",
    "test = []\n",
    "\n",
    "with open(\"yelp_online_train.csv\", newline = \"\") as f:\n",
    "    rows = csv.reader(f)\n",
    "    for row in rows:\n",
    "        if row[0] == \"user_id\":\n",
    "            continue\n",
    "        train.append(row)\n",
    "        \n",
    "with open(\"yelp_online_test.csv\", newline = \"\") as f:\n",
    "    rows = csv.reader(f)\n",
    "    for row in rows:\n",
    "        if row[0] == \"user_id\":\n",
    "            continue\n",
    "        test.append(row)"
   ]
  },
  {
   "cell_type": "code",
   "execution_count": 13,
   "metadata": {},
   "outputs": [
    {
     "data": {
      "text/plain": [
       "[['14445', '359', '20041019'],\n",
       " ['14445', '18677', '20041019'],\n",
       " ['14445', '8611', '20041019'],\n",
       " ['17457', '5223', '20050303'],\n",
       " ['17457', '17278', '20050303']]"
      ]
     },
     "execution_count": 13,
     "metadata": {},
     "output_type": "execute_result"
    }
   ],
   "source": [
    "train[:5]"
   ]
  },
  {
   "cell_type": "code",
   "execution_count": 14,
   "metadata": {},
   "outputs": [
    {
     "data": {
      "text/plain": [
       "[['10137', '16510', '20140710'],\n",
       " ['22234', '17678', '20140710'],\n",
       " ['17402', '6048', '20140710'],\n",
       " ['2716', '17592', '20140710'],\n",
       " ['18382', '14453', '20140710']]"
      ]
     },
     "execution_count": 14,
     "metadata": {},
     "output_type": "execute_result"
    }
   ],
   "source": [
    "test[:5]"
   ]
  },
  {
   "cell_type": "code",
   "execution_count": 15,
   "metadata": {},
   "outputs": [],
   "source": [
    "user_dict = {}\n",
    "item_dict = {}\n",
    "user_count = 0\n",
    "item_count = 0\n",
    "\n",
    "for row in train:\n",
    "    if row[0] not in user_dict:\n",
    "        user_dict[row[0]] = user_count\n",
    "        user_count += 1\n",
    "    if row[1] not in item_dict:\n",
    "        item_dict[row[1]] = item_count\n",
    "        item_count += 1\n",
    "        \n",
    "for row in test:\n",
    "    if row[0] not in user_dict:\n",
    "        user_dict[row[0]] = user_count\n",
    "        user_count += 1\n",
    "    if row[1] not in item_dict:\n",
    "        item_dict[row[1]] = item_count\n",
    "        item_count += 1"
   ]
  },
  {
   "cell_type": "code",
   "execution_count": 16,
   "metadata": {},
   "outputs": [],
   "source": [
    "user_dict_2 = {}\n",
    "item_dict_2 = {}\n",
    "\n",
    "for user in user_dict:\n",
    "    user_dict_2[user_dict[user]] = user\n",
    "for item in item_dict:\n",
    "    item_dict_2[item_dict[item]] = item"
   ]
  },
  {
   "cell_type": "code",
   "execution_count": 17,
   "metadata": {},
   "outputs": [],
   "source": [
    "for row in train:\n",
    "    row[0] = user_dict[row[0]]\n",
    "    row[1] = item_dict[row[1]]\n",
    "    \n",
    "for row in test:\n",
    "    row[0] = user_dict[row[0]]\n",
    "    row[1] = item_dict[row[1]]"
   ]
  },
  {
   "cell_type": "code",
   "execution_count": 18,
   "metadata": {},
   "outputs": [
    {
     "data": {
      "text/plain": [
       "[[0, 0, '20041019'],\n",
       " [0, 1, '20041019'],\n",
       " [0, 2, '20041019'],\n",
       " [1, 3, '20050303'],\n",
       " [1, 4, '20050303']]"
      ]
     },
     "execution_count": 18,
     "metadata": {},
     "output_type": "execute_result"
    }
   ],
   "source": [
    "train[:5]"
   ]
  },
  {
   "cell_type": "code",
   "execution_count": 19,
   "metadata": {},
   "outputs": [
    {
     "data": {
      "text/plain": [
       "[[3964, 2879, '20140710'],\n",
       " [26577, 6814, '20140710'],\n",
       " [29523, 20791, '20140710'],\n",
       " [27992, 2621, '20140710'],\n",
       " [19469, 6199, '20140710']]"
      ]
     },
     "execution_count": 19,
     "metadata": {},
     "output_type": "execute_result"
    }
   ],
   "source": [
    "test[:5]"
   ]
  },
  {
   "cell_type": "markdown",
   "metadata": {},
   "source": [
    "### data size"
   ]
  },
  {
   "cell_type": "code",
   "execution_count": 20,
   "metadata": {},
   "outputs": [
    {
     "name": "stdout",
     "output_type": "stream",
     "text": [
      "number of ratings: 791010\n",
      "n_user: 30407\n",
      "n_item: 22676\n"
     ]
    }
   ],
   "source": [
    "n_user = len(user_dict)\n",
    "n_item = len(item_dict)\n",
    "n_rating = len(train)\n",
    "\n",
    "print(\"number of ratings:\", n_rating)\n",
    "print(\"n_user:\", n_user)\n",
    "print(\"n_item:\", n_item)"
   ]
  },
  {
   "cell_type": "markdown",
   "metadata": {},
   "source": [
    "### number of training and updating"
   ]
  },
  {
   "cell_type": "code",
   "execution_count": 23,
   "metadata": {},
   "outputs": [
    {
     "name": "stdout",
     "output_type": "stream",
     "text": [
      "n_train: 791010\n",
      "n_test: 87891\n"
     ]
    }
   ],
   "source": [
    "n_train = len(train)\n",
    "n_test = len(test)\n",
    "\n",
    "print(\"n_train:\", n_train)\n",
    "print(\"n_test:\", n_test)"
   ]
  },
  {
   "cell_type": "markdown",
   "metadata": {},
   "source": [
    "### construct rating matrix"
   ]
  },
  {
   "cell_type": "code",
   "execution_count": 24,
   "metadata": {},
   "outputs": [],
   "source": [
    "ratings = []\n",
    "zeros = np.zeros(n_item)\n",
    "\n",
    "for _ in range(n_user):\n",
    "    ratings.append(zeros.copy())\n",
    "    \n",
    "for i in range(n_train):\n",
    "    ratings[train[i][0]][train[i][1]] = 1.0"
   ]
  },
  {
   "cell_type": "code",
   "execution_count": 25,
   "metadata": {},
   "outputs": [
    {
     "data": {
      "text/plain": [
       "array([ 1.,  1.,  1.,  0.,  0.,  0.,  0.,  0.,  0.,  0.])"
      ]
     },
     "execution_count": 25,
     "metadata": {},
     "output_type": "execute_result"
    }
   ],
   "source": [
    "ratings[0][:10]"
   ]
  },
  {
   "cell_type": "markdown",
   "metadata": {},
   "source": [
    "### list rated movies for each user & for each movie"
   ]
  },
  {
   "cell_type": "code",
   "execution_count": 26,
   "metadata": {},
   "outputs": [],
   "source": [
    "rate_lists_user = []\n",
    "rate_lists_item = []\n",
    "\n",
    "for i in range(n_user):\n",
    "    tmp = []\n",
    "    for j in range(n_item):\n",
    "        if ratings[i][j] > 0.1:\n",
    "            tmp.append(j)\n",
    "    rate_lists_user.append(tmp.copy())\n",
    "    \n",
    "for i in range(n_item):\n",
    "    tmp = []\n",
    "    for j in range(n_user):\n",
    "        if ratings[j][i] > 0.1:\n",
    "            tmp.append(j)\n",
    "    rate_lists_item.append(tmp.copy())"
   ]
  },
  {
   "cell_type": "code",
   "execution_count": 27,
   "metadata": {},
   "outputs": [
    {
     "data": {
      "text/plain": [
       "23"
      ]
     },
     "execution_count": 27,
     "metadata": {},
     "output_type": "execute_result"
    }
   ],
   "source": [
    "len(rate_lists_user[0])"
   ]
  },
  {
   "cell_type": "code",
   "execution_count": 28,
   "metadata": {},
   "outputs": [
    {
     "data": {
      "text/plain": [
       "618"
      ]
     },
     "execution_count": 28,
     "metadata": {},
     "output_type": "execute_result"
    }
   ],
   "source": [
    "len(rate_lists_item[0])"
   ]
  },
  {
   "cell_type": "markdown",
   "metadata": {},
   "source": [
    "### initialize user and item vectors"
   ]
  },
  {
   "cell_type": "code",
   "execution_count": 29,
   "metadata": {},
   "outputs": [],
   "source": [
    "user_vecs = []\n",
    "item_vecs = []\n",
    "dim = 100\n",
    "\n",
    "def noise(dim):\n",
    "    return np.random.uniform(-1, 1, dim)\n",
    "\n",
    "for i in range(n_user):\n",
    "    user_vecs.append(noise(dim))\n",
    "for i in range(n_item):\n",
    "    item_vecs.append(noise(dim))"
   ]
  },
  {
   "cell_type": "code",
   "execution_count": 30,
   "metadata": {},
   "outputs": [
    {
     "data": {
      "text/plain": [
       "array([-0.65902836, -0.34008991,  0.65085957, -0.45834596, -0.92854269,\n",
       "       -0.98596853,  0.06566744, -0.46271555,  0.53410863,  0.50988186,\n",
       "       -0.34534047, -0.47128739,  0.67343248,  0.0317375 , -0.07125827,\n",
       "       -0.84815636, -0.66483843, -0.0717082 , -0.27068584, -0.70741081,\n",
       "        0.88943354, -0.57062524,  0.96252919, -0.79113895, -0.04980071,\n",
       "        0.93659021, -0.60635948, -0.16282006, -0.04278514,  0.03294168,\n",
       "       -0.44380625, -0.20815702,  0.23547242,  0.44349931,  0.11999413,\n",
       "       -0.63493331, -0.79433162,  0.00274636,  0.61953007, -0.71072731,\n",
       "       -0.54541859, -0.82116014, -0.14800144,  0.80282859, -0.74737566,\n",
       "        0.59998118, -0.06525424, -0.208489  , -0.2229839 , -0.60835033,\n",
       "       -0.17941261,  0.84495504,  0.58211732,  0.00337052, -0.30166136,\n",
       "       -0.81227672, -0.40561745, -0.88715046, -0.32770136, -0.56694948,\n",
       "        0.1217122 ,  0.47963071,  0.04400264,  0.13790101,  0.25048949,\n",
       "       -0.3685431 , -0.23893675, -0.39239855, -0.9123951 , -0.45257885,\n",
       "       -0.47146733,  0.42975439,  0.68375453, -0.00488362, -0.86365413,\n",
       "       -0.11336154, -0.34474354,  0.83467956, -0.26931068, -0.11441064,\n",
       "        0.77878717, -0.50299511,  0.54170723,  0.08143986, -0.90381188,\n",
       "        0.71016129, -0.13751066,  0.6869341 , -0.39678438, -0.88479658,\n",
       "       -0.61529191, -0.90071648, -0.51929757, -0.2261511 , -0.87157641,\n",
       "        0.57524483, -0.43725289, -0.449658  ,  0.75781409,  0.72277019])"
      ]
     },
     "execution_count": 30,
     "metadata": {},
     "output_type": "execute_result"
    }
   ],
   "source": [
    "user_vecs[0]"
   ]
  },
  {
   "cell_type": "markdown",
   "metadata": {},
   "source": [
    "### calculate $S^{user}$ and $S^{item}$"
   ]
  },
  {
   "cell_type": "code",
   "execution_count": 31,
   "metadata": {},
   "outputs": [],
   "source": [
    "def vec_mul(arr):\n",
    "    l = len(arr)\n",
    "    ret = []\n",
    "    \n",
    "    for i in range(l):\n",
    "        tmp = np.zeros(l)\n",
    "        for j in range(l):\n",
    "            tmp[j] = arr[i] * arr[j]\n",
    "        ret.append(tmp)\n",
    "        \n",
    "    return ret"
   ]
  },
  {
   "cell_type": "code",
   "execution_count": 32,
   "metadata": {},
   "outputs": [],
   "source": [
    "def update_s_user():\n",
    "    for i in range(n_user):\n",
    "        s = vec_mul(user_vecs[i])\n",
    "        for j in range(dim):\n",
    "            s_user[j] += s[j]\n",
    "\n",
    "def update_s_item():\n",
    "    for i in range(n_item):\n",
    "        s = vec_mul(item_vecs[i])\n",
    "        for j in range(dim):\n",
    "            s_item[j] += s[j]"
   ]
  },
  {
   "cell_type": "markdown",
   "metadata": {},
   "source": [
    "### gradient of loss"
   ]
  },
  {
   "cell_type": "code",
   "execution_count": 33,
   "metadata": {},
   "outputs": [],
   "source": [
    "def dot(a, b):\n",
    "    ret = 0.0\n",
    "    for i in range(len(a)):\n",
    "        ret += a[i] * b[i]\n",
    "    return ret\n",
    "\n",
    "def sign(x):\n",
    "    if x >= 0:\n",
    "        return 1\n",
    "    else:\n",
    "        return -1\n",
    "\n",
    "def gradient_user(i, alpha, lmd):\n",
    "    ret = np.zeros(dim)\n",
    "    # 2 * \\alpha * w_i * S^h\n",
    "    for j in range(dim):\n",
    "        ret[j] += 2 * alpha * dot(user_vecs[i], s_item[j])\n",
    "    # \\lambda * sign(w_i)\n",
    "    for j in range(dim):\n",
    "        ret[j] += lmd * sign(user_vecs[i][j])\n",
    "    # -2 * \\sum{h_j}\n",
    "    for j in range(len(rate_lists_user[i])):\n",
    "        no = rate_lists_user[i][j]\n",
    "        rate = ratings[i][no]\n",
    "        scalar = rate - (1-alpha) * dot(user_vecs[i], item_vecs[no])\n",
    "        scalar *= -2\n",
    "        ret += scalar * item_vecs[no]\n",
    "    return ret\n",
    "\n",
    "def gradient_item(i, alpha, lmd):\n",
    "    ret = np.zeros(dim)\n",
    "    # 2 * \\alpha * h_i * S^w\n",
    "    for j in range(dim):\n",
    "        ret[j] += 2 * alpha * dot(item_vecs[i], s_user[j])\n",
    "    # \\lambda * sign(h_i)\n",
    "    for j in range(dim):\n",
    "        ret[j] += lmd * sign(item_vecs[i][j])\n",
    "    # -2 * \\sum{w_j}\n",
    "    for j in range(len(rate_lists_item[i])):\n",
    "        no = rate_lists_item[i][j]\n",
    "        rate = ratings[no][i]\n",
    "        scalar = rate - (1-alpha) * dot(item_vecs[i], user_vecs[no])\n",
    "        scalar *= -2\n",
    "        ret += scalar * user_vecs[no]\n",
    "    return ret\n",
    "\n",
    "def gradient_user_u(i, alpha, lmd):\n",
    "    ret = np.zeros(dim)\n",
    "    # 2 * \\alpha * w_i * S^h\n",
    "    for j in range(dim):\n",
    "        ret[j] += 2 * alpha * dot(user_vecs_u[i], s_item_u[j])\n",
    "    # \\lambda * sign(w_i)\n",
    "    for j in range(dim):\n",
    "        ret[j] += lmd * sign(user_vecs_u[i][j])\n",
    "    # -2 * \\sum{h_j}\n",
    "    for j in range(len(rate_lists_user_u[i])):\n",
    "        no = rate_lists_user_u[i][j]\n",
    "        rate = ratings_u[i][no]\n",
    "        scalar = rate - (1-alpha) * dot(user_vecs_u[i], item_vecs_u[no])\n",
    "        scalar *= -2\n",
    "        ret += scalar * item_vecs_u[no]\n",
    "    return ret\n",
    "\n",
    "def gradient_item_u(i, alpha, lmd):\n",
    "    ret = np.zeros(dim)\n",
    "    # 2 * \\alpha * h_i * S^w\n",
    "    for j in range(dim):\n",
    "        ret[j] += 2 * alpha * dot(item_vecs_u[i], s_user_u[j])\n",
    "    # \\lambda * sign(h_i)\n",
    "    for j in range(dim):\n",
    "        ret[j] += lmd * sign(item_vecs_u[i][j])\n",
    "    # -2 * \\sum{w_j}\n",
    "    for j in range(len(rate_lists_item_u[i])):\n",
    "        no = rate_lists_item_u[i][j]\n",
    "        rate = ratings_u[no][i]\n",
    "        scalar = rate - (1-alpha) * dot(item_vecs_u[i], user_vecs_u[no])\n",
    "        scalar *= -2\n",
    "        ret += scalar * user_vecs_u[no]\n",
    "    return ret"
   ]
  },
  {
   "cell_type": "markdown",
   "metadata": {},
   "source": [
    "### hyperparameters"
   ]
  },
  {
   "cell_type": "code",
   "execution_count": 52,
   "metadata": {},
   "outputs": [
    {
     "name": "stdout",
     "output_type": "stream",
     "text": [
      "lambda: 0.01\n",
      "alpha: 0.0023\n",
      "rho: 2.002568463862657\n",
      "learning rate: 0.001\n"
     ]
    }
   ],
   "source": [
    "lmd = 0.01\n",
    "alpha = 0.0023\n",
    "rho = alpha * (n_user*n_item - n_train) / n_train\n",
    "EPOCH = 30\n",
    "lr = 0.001 # the paper use line search, but setting learning rate is good enough\n",
    "\n",
    "print(\"lambda:\", lmd)\n",
    "print(\"alpha:\", alpha)\n",
    "print(\"rho:\", rho)\n",
    "print(\"learning rate:\", lr)"
   ]
  },
  {
   "cell_type": "markdown",
   "metadata": {},
   "source": [
    "### train"
   ]
  },
  {
   "cell_type": "code",
   "execution_count": 40,
   "metadata": {},
   "outputs": [],
   "source": [
    "def update_user(i, scalar):\n",
    "    mat = vec_mul(user_vecs[i])\n",
    "    for j in range(dim):\n",
    "        s_user[j] += scalar * mat[j]\n",
    "    return\n",
    "\n",
    "def update_item(i, scalar):\n",
    "    mat = vec_mul(item_vecs[i])\n",
    "    for j in range(dim):\n",
    "        s_item[j] += scalar * mat[j]\n",
    "    return\n",
    "\n",
    "def update_user_u(i, scalar):\n",
    "    mat = vec_mul(user_vecs_u[i])\n",
    "    for j in range(dim):\n",
    "        s_user_u[j] += scalar * mat[j]\n",
    "    return\n",
    "\n",
    "def update_item_u(i, scalar):\n",
    "    mat = vec_mul(item_vecs_u[i])\n",
    "    for j in range(dim):\n",
    "        s_item_u[j] += scalar * mat[j]\n",
    "    return"
   ]
  },
  {
   "cell_type": "code",
   "execution_count": 24,
   "metadata": {},
   "outputs": [],
   "source": [
    "# def cal_loss():\n",
    "#     ret = 0.0\n",
    "#     for i in range(n_user):\n",
    "#         for j in range(n_item):\n",
    "#             if ratings[i][j] > 0.1:\n",
    "#                 residual = ratings[i][j] - dot(user_vecs[i], item_vecs[j])\n",
    "#                 ret += residual ** 2\n",
    "#             else:\n",
    "#                 residual = ratings[i][j] - dot(user_vecs[i], item_vecs[j])\n",
    "#                 ret += alpha * (residual ** 2)\n",
    "#     sum_w = 0.0\n",
    "#     for i in range(n_user):\n",
    "#         for j in range(dim):\n",
    "#             sum_w += sign(user_vecs[i][j]) * user_vecs[i][j]\n",
    "#     for i in range(n_item):\n",
    "#         for j in range(dim):\n",
    "#             sum_w += sign(item_vecs[i][j]) * item_vecs[i][j]\n",
    "#     return ret + lmd * sum_w\n",
    "\n",
    "# def cal_loss_u():\n",
    "#     ret = 0.0\n",
    "#     for i in range(n_user):\n",
    "#         for j in range(n_item):\n",
    "#             if ratings_u[i][j] > 0.1:\n",
    "#                 residual = ratings_u[i][j] - dot(user_vecs_u[i], item_vecs_u[j])\n",
    "#                 ret += residual ** 2\n",
    "#             else:\n",
    "#                 residual = ratings_u[i][j] - dot(user_vecs_u[i], item_vecs_u[j])\n",
    "#                 ret += alpha * (residual ** 2)\n",
    "#     sum_w = 0.0\n",
    "#     for i in range(n_user):\n",
    "#         for j in range(dim):\n",
    "#             sum_w += sign(user_vecs_u[i][j]) * user_vecs_u[i][j]\n",
    "#     for i in range(n_item):\n",
    "#         for j in range(dim):\n",
    "#             sum_w += sign(item_vecs_u[i][j]) * item_vecs_u[i][j]\n",
    "#     return ret + lmd * sum_w"
   ]
  },
  {
   "cell_type": "code",
   "execution_count": 42,
   "metadata": {},
   "outputs": [],
   "source": [
    "def cal_acc(n):\n",
    "    predict = []\n",
    "    rates = []\n",
    "    error = 0.0\n",
    "\n",
    "    for i in range(n):\n",
    "        rates.append(1.0)\n",
    "        predict.append(dot(user_vecs[test[i][0]], item_vecs[test[i][1]]))\n",
    "\n",
    "    for i in range(n):\n",
    "        error += abs(rates[i] - predict[i])**2\n",
    "\n",
    "    return error / n\n",
    "\n",
    "def cal_acc_u(n):\n",
    "    predict = []\n",
    "    rates = []\n",
    "    error = 0.0\n",
    "\n",
    "    for i in range(n):\n",
    "        rates.append(1.0)\n",
    "        predict.append(dot(user_vecs_u[test[i][0]], item_vecs_u[test[i][1]]))\n",
    "\n",
    "    for i in range(n):\n",
    "        error += abs(rates[i] - predict[i])**2\n",
    "\n",
    "    return error / n\n",
    "\n",
    "def cal_insample_acc(n):\n",
    "    predict = []\n",
    "    rates = []\n",
    "    error = 0.0\n",
    "\n",
    "    for i in range(n):\n",
    "        rates.append(1.0)\n",
    "        predict.append(dot(user_vecs[train[i][0]], item_vecs[train[i][1]]))\n",
    "\n",
    "    for i in range(n):\n",
    "        error += abs(rates[i] - predict[i])**2\n",
    "\n",
    "    return error / n\n",
    "\n",
    "def cal_insample_acc_u(n):\n",
    "    predict = []\n",
    "    rates = []\n",
    "    error = 0.0\n",
    "\n",
    "    for i in range(n):\n",
    "        rates.append(1.0)\n",
    "        predict.append(dot(user_vecs_u[train[i][0]], item_vecs_u[train[i][1]]))\n",
    "\n",
    "    for i in range(n):\n",
    "        error += abs(rates[i] - predict[i])**2\n",
    "\n",
    "    return error / n"
   ]
  },
  {
   "cell_type": "code",
   "execution_count": 53,
   "metadata": {},
   "outputs": [],
   "source": [
    "user_vecs = []\n",
    "item_vecs = []\n",
    "s_user = vec_mul(np.zeros(dim))\n",
    "s_item = vec_mul(np.zeros(dim))\n",
    "\n",
    "for i in range(n_user):\n",
    "    user_vecs.append(noise(dim))\n",
    "for i in range(n_item):\n",
    "    item_vecs.append(noise(dim))\n",
    "\n",
    "update_s_user()\n",
    "update_s_item()\n",
    "\n",
    "user_vecs_u = copy.deepcopy(user_vecs)\n",
    "item_vecs_u = copy.deepcopy(item_vecs)\n",
    "s_user_u = copy.deepcopy(s_user)\n",
    "s_item_u = copy.deepcopy(s_item)"
   ]
  },
  {
   "cell_type": "code",
   "execution_count": 54,
   "metadata": {},
   "outputs": [],
   "source": [
    "user_vecs = copy.deepcopy(user_vecs_u)\n",
    "item_vecs = copy.deepcopy(item_vecs_u)\n",
    "s_user = copy.deepcopy(s_user_u)\n",
    "s_item = copy.deepcopy(s_item_u)\n",
    "\n",
    "start_train_time = time.time()\n",
    "cal_loss_time = 0.0\n",
    "cal_acc_time = 0.0\n",
    "\n",
    "losses = []\n",
    "in_accs = []\n",
    "out_accs = []"
   ]
  },
  {
   "cell_type": "code",
   "execution_count": null,
   "metadata": {},
   "outputs": [
    {
     "name": "stdout",
     "output_type": "stream",
     "text": [
      "user: 100 ; in-sample error: 12.1927058178 ; out-sample error 12.1396386526\n",
      "user: 200 ; in-sample error: 12.1814112375 ; out-sample error 12.1352146654\n",
      "user: 300 ; in-sample error: 12.1743500093 ; out-sample error 12.1283777134\n",
      "user: 400 ; in-sample error: 12.1536104585 ; out-sample error 12.1251883898\n",
      "user: 500 ; in-sample error: 12.1365359672 ; out-sample error 12.1213009113\n",
      "user: 600 ; in-sample error: 12.1297822877 ; out-sample error 12.1165895075\n",
      "user: 700 ; in-sample error: 12.11430647 ; out-sample error 12.1119693764\n",
      "user: 800 ; in-sample error: 12.0855013399 ; out-sample error 12.1065241999\n",
      "user: 900 ; in-sample error: 12.0729979289 ; out-sample error 12.1012206259\n",
      "user: 1000 ; in-sample error: 12.0629289719 ; out-sample error 12.0983412395\n",
      "user: 1100 ; in-sample error: 12.0551423892 ; out-sample error 12.0955123917\n",
      "user: 1200 ; in-sample error: 12.0448729335 ; out-sample error 12.0925067844\n",
      "user: 1300 ; in-sample error: 12.0327675696 ; out-sample error 12.0893840751\n",
      "user: 1400 ; in-sample error: 12.0135146095 ; out-sample error 12.0837293051\n",
      "user: 1500 ; in-sample error: 12.0092118837 ; out-sample error 12.0816400837\n",
      "user: 1600 ; in-sample error: 11.9999892104 ; out-sample error 12.0783926788\n",
      "user: 1700 ; in-sample error: 11.9939810431 ; out-sample error 12.0745779885\n",
      "user: 1800 ; in-sample error: 11.9859335815 ; out-sample error 12.0705315863\n",
      "user: 1900 ; in-sample error: 11.9792965841 ; out-sample error 12.0669535644\n",
      "user: 2000 ; in-sample error: 11.9751298238 ; out-sample error 12.0647811885\n",
      "user: 2100 ; in-sample error: 11.9610174165 ; out-sample error 12.0616322308\n",
      "user: 2200 ; in-sample error: 11.9474213115 ; out-sample error 12.0567648043\n",
      "user: 2300 ; in-sample error: 11.9411833563 ; out-sample error 12.0490851561\n",
      "user: 2400 ; in-sample error: 11.9325930551 ; out-sample error 12.0443076281\n",
      "user: 2500 ; in-sample error: 11.9243292887 ; out-sample error 12.0401095185\n",
      "user: 2600 ; in-sample error: 11.9170930743 ; out-sample error 12.0361911739\n",
      "user: 2700 ; in-sample error: 11.9113708721 ; out-sample error 12.0321902049\n",
      "user: 2800 ; in-sample error: 11.9018524618 ; out-sample error 12.0301041054\n",
      "user: 2900 ; in-sample error: 11.8892301374 ; out-sample error 12.0171538995\n",
      "user: 3000 ; in-sample error: 11.8828442576 ; out-sample error 12.0137713188\n",
      "user: 3100 ; in-sample error: 11.8660004328 ; out-sample error 12.0035369321\n",
      "user: 3200 ; in-sample error: 11.8486818132 ; out-sample error 11.9970636789\n",
      "user: 3300 ; in-sample error: 11.8413372042 ; out-sample error 11.9949324779\n",
      "user: 3400 ; in-sample error: 11.8362647818 ; out-sample error 11.9911726762\n",
      "user: 3500 ; in-sample error: 11.8219331618 ; out-sample error 11.9879705781\n",
      "user: 3600 ; in-sample error: 11.8185954087 ; out-sample error 11.9852000365\n",
      "user: 3700 ; in-sample error: 11.8046885914 ; out-sample error 11.981683451\n",
      "user: 3800 ; in-sample error: 11.797303196 ; out-sample error 11.9792411668\n",
      "user: 3900 ; in-sample error: 11.7737131872 ; out-sample error 11.9736306682\n",
      "user: 4000 ; in-sample error: 11.7646688127 ; out-sample error 11.9704677464\n",
      "user: 4100 ; in-sample error: 11.7570110512 ; out-sample error 11.9652394612\n",
      "user: 4200 ; in-sample error: 11.7477838 ; out-sample error 11.9618182407\n",
      "user: 4300 ; in-sample error: 11.7383692105 ; out-sample error 11.9581344244\n",
      "user: 4400 ; in-sample error: 11.7240497096 ; out-sample error 11.9544380371\n",
      "user: 4500 ; in-sample error: 11.7149211638 ; out-sample error 11.9508468173\n",
      "user: 4600 ; in-sample error: 11.6911620107 ; out-sample error 11.9458162184\n",
      "user: 4700 ; in-sample error: 11.6850269357 ; out-sample error 11.93803143\n",
      "user: 4800 ; in-sample error: 11.6734003914 ; out-sample error 11.9344714194\n",
      "user: 4900 ; in-sample error: 11.6672069413 ; out-sample error 11.9215227078\n",
      "user: 5000 ; in-sample error: 11.6613820437 ; out-sample error 11.9181542877\n",
      "user: 5100 ; in-sample error: 11.6547312615 ; out-sample error 11.9145938331\n",
      "user: 5200 ; in-sample error: 11.6496325819 ; out-sample error 11.9090684897\n",
      "user: 5300 ; in-sample error: 11.6412535613 ; out-sample error 11.9045234771\n",
      "user: 5400 ; in-sample error: 11.6317832421 ; out-sample error 11.8999178341\n",
      "user: 5500 ; in-sample error: 11.6278546623 ; out-sample error 11.8949619059\n",
      "user: 5600 ; in-sample error: 11.618412223 ; out-sample error 11.890185228\n",
      "user: 5700 ; in-sample error: 11.6132948115 ; out-sample error 11.8849564244\n",
      "user: 5800 ; in-sample error: 11.6047519225 ; out-sample error 11.8797106958\n",
      "user: 5900 ; in-sample error: 11.5939805364 ; out-sample error 11.8772980783\n",
      "user: 6000 ; in-sample error: 11.5801398368 ; out-sample error 11.8750118802\n",
      "user: 6100 ; in-sample error: 11.5346033362 ; out-sample error 11.870754029\n",
      "user: 6200 ; in-sample error: 11.5275802423 ; out-sample error 11.8684799192\n",
      "user: 6300 ; in-sample error: 11.5215078987 ; out-sample error 11.8653853419\n",
      "user: 6400 ; in-sample error: 11.4884088762 ; out-sample error 11.8598148706\n",
      "user: 6500 ; in-sample error: 11.4844232168 ; out-sample error 11.8575598101\n",
      "user: 6600 ; in-sample error: 11.4776262282 ; out-sample error 11.8537179607\n",
      "user: 6700 ; in-sample error: 11.4698331147 ; out-sample error 11.8508822062\n",
      "user: 6800 ; in-sample error: 11.4448925609 ; out-sample error 11.8456709339\n",
      "user: 6900 ; in-sample error: 11.4295355719 ; out-sample error 11.8418378697\n",
      "user: 7000 ; in-sample error: 11.42651488 ; out-sample error 11.8382250871\n",
      "user: 7100 ; in-sample error: 11.4181314465 ; out-sample error 11.8344584846\n",
      "user: 7200 ; in-sample error: 11.4063912348 ; out-sample error 11.8318034245\n",
      "user: 7300 ; in-sample error: 11.3970137325 ; out-sample error 11.8267391455\n",
      "user: 7400 ; in-sample error: 11.3872256461 ; out-sample error 11.8240852811\n",
      "user: 7500 ; in-sample error: 11.3771462773 ; out-sample error 11.8184138774\n",
      "user: 7600 ; in-sample error: 11.3556536667 ; out-sample error 11.8132693075\n",
      "user: 7700 ; in-sample error: 11.342494298 ; out-sample error 11.8086833852\n",
      "user: 7800 ; in-sample error: 11.3222719639 ; out-sample error 11.8042834027\n",
      "user: 7900 ; in-sample error: 11.3131025562 ; out-sample error 11.8005952566\n",
      "user: 8000 ; in-sample error: 11.306056355 ; out-sample error 11.7981210879\n",
      "user: 8100 ; in-sample error: 11.2868315761 ; out-sample error 11.7918504337\n",
      "user: 8200 ; in-sample error: 11.2759509458 ; out-sample error 11.785517124\n",
      "user: 8300 ; in-sample error: 11.2662870744 ; out-sample error 11.7804879455\n",
      "user: 8400 ; in-sample error: 11.2583482762 ; out-sample error 11.7772663553\n",
      "user: 8500 ; in-sample error: 11.2433954682 ; out-sample error 11.7732378786\n",
      "user: 8600 ; in-sample error: 11.2365371853 ; out-sample error 11.7704888988\n",
      "user: 8700 ; in-sample error: 11.2335500246 ; out-sample error 11.7636690354\n",
      "user: 8800 ; in-sample error: 11.225093069 ; out-sample error 11.7575574313\n",
      "user: 8900 ; in-sample error: 11.2162703279 ; out-sample error 11.7531238425\n",
      "user: 9000 ; in-sample error: 11.2014328569 ; out-sample error 11.7449895541\n",
      "user: 9100 ; in-sample error: 11.1975718993 ; out-sample error 11.7395173113\n",
      "user: 9200 ; in-sample error: 11.191778806 ; out-sample error 11.7361694206\n",
      "user: 9300 ; in-sample error: 11.186935389 ; out-sample error 11.7258328338\n",
      "user: 9400 ; in-sample error: 11.1673858908 ; out-sample error 11.7232827484\n",
      "user: 9500 ; in-sample error: 11.1633204762 ; out-sample error 11.7177295199\n",
      "user: 9600 ; in-sample error: 11.1527995 ; out-sample error 11.7111408455\n",
      "user: 9700 ; in-sample error: 11.1341985796 ; out-sample error 11.708317546\n",
      "user: 9800 ; in-sample error: 11.125248373 ; out-sample error 11.7041416977\n",
      "user: 9900 ; in-sample error: 11.1046621088 ; out-sample error 11.7006989118\n",
      "user: 10000 ; in-sample error: 11.0952825862 ; out-sample error 11.694708802\n",
      "user: 10100 ; in-sample error: 11.0670446659 ; out-sample error 11.6904911253\n",
      "user: 10200 ; in-sample error: 11.0588955722 ; out-sample error 11.6868670865\n",
      "user: 10300 ; in-sample error: 11.0528578394 ; out-sample error 11.6833777593\n",
      "user: 10400 ; in-sample error: 11.0384181261 ; out-sample error 11.6796672627\n",
      "user: 10500 ; in-sample error: 11.0312792396 ; out-sample error 11.6774690572\n",
      "user: 10600 ; in-sample error: 11.0251873823 ; out-sample error 11.6745338373\n",
      "user: 10700 ; in-sample error: 11.0184458475 ; out-sample error 11.6717551408\n"
     ]
    },
    {
     "name": "stdout",
     "output_type": "stream",
     "text": [
      "user: 10800 ; in-sample error: 11.0065937939 ; out-sample error 11.6696097211\n",
      "user: 10900 ; in-sample error: 10.9999408309 ; out-sample error 11.6672539346\n",
      "user: 11000 ; in-sample error: 10.9952826112 ; out-sample error 11.6654341838\n",
      "user: 11100 ; in-sample error: 10.9837943104 ; out-sample error 11.6598314638\n",
      "user: 11200 ; in-sample error: 10.9748090822 ; out-sample error 11.6550824391\n",
      "user: 11300 ; in-sample error: 10.9616062604 ; out-sample error 11.6501025185\n",
      "user: 11400 ; in-sample error: 10.9446257988 ; out-sample error 11.647344335\n",
      "user: 11500 ; in-sample error: 10.9285351283 ; out-sample error 11.6437599164\n",
      "user: 11600 ; in-sample error: 10.9034754052 ; out-sample error 11.6404803936\n",
      "user: 11700 ; in-sample error: 10.8933507987 ; out-sample error 11.6367527458\n",
      "user: 11800 ; in-sample error: 10.8801040838 ; out-sample error 11.6309691962\n",
      "user: 11900 ; in-sample error: 10.8623791263 ; out-sample error 11.6279705411\n",
      "user: 12000 ; in-sample error: 10.85404005 ; out-sample error 11.6226376634\n",
      "user: 12100 ; in-sample error: 10.8489264709 ; out-sample error 11.6192454251\n",
      "user: 12200 ; in-sample error: 10.8430570039 ; out-sample error 11.6148962398\n",
      "user: 12300 ; in-sample error: 10.8350151114 ; out-sample error 11.607515929\n",
      "user: 12400 ; in-sample error: 10.8177451819 ; out-sample error 11.6020737316\n",
      "user: 12500 ; in-sample error: 10.8118137068 ; out-sample error 11.5977381642\n",
      "user: 12600 ; in-sample error: 10.8065064563 ; out-sample error 11.590679738\n",
      "user: 12700 ; in-sample error: 10.7956354886 ; out-sample error 11.5873828987\n",
      "user: 12800 ; in-sample error: 10.7843869934 ; out-sample error 11.5840155645\n",
      "user: 12900 ; in-sample error: 10.7711082887 ; out-sample error 11.5809194737\n",
      "user: 13000 ; in-sample error: 10.7538910423 ; out-sample error 11.5766035655\n",
      "user: 13100 ; in-sample error: 10.7257324205 ; out-sample error 11.5710652233\n",
      "user: 13200 ; in-sample error: 10.7222623864 ; out-sample error 11.5670350556\n",
      "user: 13300 ; in-sample error: 10.7146689427 ; out-sample error 11.5623921053\n",
      "user: 13400 ; in-sample error: 10.7014124902 ; out-sample error 11.5600624772\n",
      "user: 13500 ; in-sample error: 10.6876124663 ; out-sample error 11.5554407786\n",
      "user: 13600 ; in-sample error: 10.6809551068 ; out-sample error 11.5519841665\n",
      "user: 13700 ; in-sample error: 10.6718587249 ; out-sample error 11.5494977759\n",
      "user: 13800 ; in-sample error: 10.6645153306 ; out-sample error 11.5447180223\n",
      "user: 13900 ; in-sample error: 10.6544339137 ; out-sample error 11.5414947315\n",
      "user: 14000 ; in-sample error: 10.6484668272 ; out-sample error 11.5386917339\n",
      "user: 14100 ; in-sample error: 10.6428262032 ; out-sample error 11.5358180922\n",
      "user: 14200 ; in-sample error: 10.627131042 ; out-sample error 11.5325737552\n",
      "user: 14300 ; in-sample error: 10.6183979867 ; out-sample error 11.5293240066\n",
      "user: 14400 ; in-sample error: 10.6136648486 ; out-sample error 11.5219295224\n",
      "user: 14500 ; in-sample error: 10.6036412754 ; out-sample error 11.5160736705\n",
      "user: 14600 ; in-sample error: 10.5945975553 ; out-sample error 11.5088422867\n",
      "user: 14700 ; in-sample error: 10.5912669698 ; out-sample error 11.504817755\n",
      "user: 14800 ; in-sample error: 10.5864011323 ; out-sample error 11.5024788554\n",
      "user: 14900 ; in-sample error: 10.5686492833 ; out-sample error 11.4992618477\n",
      "user: 15000 ; in-sample error: 10.5557958793 ; out-sample error 11.4964412745\n",
      "user: 15100 ; in-sample error: 10.5369249538 ; out-sample error 11.4902360654\n",
      "user: 15200 ; in-sample error: 10.4873574658 ; out-sample error 11.4863792076\n",
      "user: 15300 ; in-sample error: 10.4792142533 ; out-sample error 11.4839341395\n",
      "user: 15400 ; in-sample error: 10.4708350825 ; out-sample error 11.480762594\n",
      "user: 15500 ; in-sample error: 10.4592624919 ; out-sample error 11.4737427261\n",
      "user: 15600 ; in-sample error: 10.456830498 ; out-sample error 11.4705961803\n",
      "user: 15700 ; in-sample error: 10.4484419251 ; out-sample error 11.4662389445\n",
      "user: 15800 ; in-sample error: 10.4332226956 ; out-sample error 11.4623166826\n",
      "user: 15900 ; in-sample error: 10.4216224083 ; out-sample error 11.4536803596\n",
      "user: 16000 ; in-sample error: 10.4179946182 ; out-sample error 11.4486435461\n",
      "user: 16100 ; in-sample error: 10.4106888865 ; out-sample error 11.4446898222\n",
      "user: 16200 ; in-sample error: 10.4073598943 ; out-sample error 11.4413675093\n",
      "user: 16300 ; in-sample error: 10.3991969334 ; out-sample error 11.436892281\n",
      "user: 16400 ; in-sample error: 10.39454654 ; out-sample error 11.4342533621\n",
      "user: 16500 ; in-sample error: 10.3916870225 ; out-sample error 11.4286731311\n",
      "user: 16600 ; in-sample error: 10.3873720262 ; out-sample error 11.4215822164\n",
      "user: 16700 ; in-sample error: 10.3805556079 ; out-sample error 11.4157634247\n",
      "user: 16800 ; in-sample error: 10.369921003 ; out-sample error 11.4129117794\n",
      "user: 16900 ; in-sample error: 10.3627571515 ; out-sample error 11.4100231708\n",
      "user: 17000 ; in-sample error: 10.3593687202 ; out-sample error 11.4054710476\n",
      "user: 17100 ; in-sample error: 10.3429082287 ; out-sample error 11.4006127499\n",
      "user: 17200 ; in-sample error: 10.3388795949 ; out-sample error 11.3864817859\n",
      "user: 17300 ; in-sample error: 10.3291453054 ; out-sample error 11.3812771574\n",
      "user: 17400 ; in-sample error: 10.3269710627 ; out-sample error 11.3758549491\n",
      "user: 17500 ; in-sample error: 10.3210679766 ; out-sample error 11.3703324847\n",
      "user: 17600 ; in-sample error: 10.3067710136 ; out-sample error 11.3664967228\n",
      "user: 17700 ; in-sample error: 10.2719485642 ; out-sample error 11.3631209076\n",
      "user: 17800 ; in-sample error: 10.264930579 ; out-sample error 11.3580051505\n",
      "user: 17900 ; in-sample error: 10.2492399393 ; out-sample error 11.3542985488\n",
      "user: 18000 ; in-sample error: 10.2399133041 ; out-sample error 11.3503116505\n",
      "user: 18100 ; in-sample error: 10.2333944155 ; out-sample error 11.345061418\n",
      "user: 18200 ; in-sample error: 10.223598511 ; out-sample error 11.3387972341\n",
      "user: 18300 ; in-sample error: 10.2166364052 ; out-sample error 11.333490418\n",
      "user: 18400 ; in-sample error: 10.2132842836 ; out-sample error 11.3301405075\n",
      "user: 18500 ; in-sample error: 10.2058957785 ; out-sample error 11.3266049881\n",
      "user: 18600 ; in-sample error: 10.1937034888 ; out-sample error 11.3226388539\n",
      "user: 18700 ; in-sample error: 10.1815824409 ; out-sample error 11.3186030015\n",
      "user: 18800 ; in-sample error: 10.1749630252 ; out-sample error 11.3146188187\n",
      "user: 18900 ; in-sample error: 10.1624778794 ; out-sample error 11.3117114841\n",
      "user: 19000 ; in-sample error: 10.157202089 ; out-sample error 11.3079348819\n",
      "user: 19100 ; in-sample error: 10.1499760768 ; out-sample error 11.30478209\n",
      "user: 19200 ; in-sample error: 10.131777021 ; out-sample error 11.2929376707\n",
      "user: 19300 ; in-sample error: 10.1250019998 ; out-sample error 11.289185095\n",
      "user: 19400 ; in-sample error: 10.1103076251 ; out-sample error 11.2842913711\n",
      "user: 19500 ; in-sample error: 10.1056400002 ; out-sample error 11.279696665\n",
      "user: 19600 ; in-sample error: 10.0992901135 ; out-sample error 11.2747529853\n",
      "user: 19700 ; in-sample error: 10.0933802116 ; out-sample error 11.2698493712\n",
      "user: 19800 ; in-sample error: 10.0756840898 ; out-sample error 11.2626928459\n",
      "user: 19900 ; in-sample error: 10.0679093916 ; out-sample error 11.2583808648\n",
      "user: 20000 ; in-sample error: 10.0620243369 ; out-sample error 11.2552751316\n"
     ]
    }
   ],
   "source": [
    "for epoch in range(EPOCH):\n",
    "    lis_user = list(range(n_user))\n",
    "    lis_item = list(range(n_item))\n",
    "    random.shuffle(lis_user)\n",
    "    random.shuffle(lis_item)\n",
    "    count = 0\n",
    "    \n",
    "    for i in lis_user:\n",
    "        grad = gradient_user(i, alpha, lmd)\n",
    "        update_user(i, -1)\n",
    "        user_vecs[i] -= lr * grad\n",
    "        update_user(i, 1)\n",
    "        \n",
    "        if count % 100 == 99:\n",
    "            print(\"user:\", count+1, \"; in-sample error:\", cal_insample_acc(n_test), \"; out-sample error\", cal_acc(n_test))\n",
    "        count += 1\n",
    "    \n",
    "    count = 0\n",
    "    \n",
    "    for i in lis_item:\n",
    "        grad = gradient_item(i, alpha, lmd)\n",
    "        update_item(i, -1)\n",
    "        item_vecs[i] -= lr * grad\n",
    "        update_item(i, 1)\n",
    "        \n",
    "        if count % 100 == 99:\n",
    "            print(\"item:\", count+1, \"; in-sample error:\", cal_insample_acc(n_test), \"; out-sample error\", cal_acc(n_test))\n",
    "        count += 1\n",
    "    \n",
    "    loss_time = time.time()\n",
    "    # loss = 0\n",
    "    # loss = cal_loss()\n",
    "    # losses.append(loss)\n",
    "    cal_loss_time += time.time() - loss_time\n",
    "    \n",
    "    acc_time = time.time()\n",
    "    in_acc = cal_insample_acc(n_test)\n",
    "    out_acc = cal_acc(n_test)\n",
    "    in_accs.append(in_acc)\n",
    "    out_accs.append(out_acc)\n",
    "    cal_acc_time += time.time() - acc_time\n",
    "    \n",
    "    print(\"\\nepoch\", epoch, \": averge error(in):\", in_acc, \"; averge error(out):\", out_acc, \"\\n\")\n",
    "\n",
    "print(\"total training time:\", time.time()-start_train_time)\n",
    "print(\"cal loss time:\", cal_loss_time)\n",
    "print(\"cal accuracy time:\", cal_acc_time)"
   ]
  },
  {
   "cell_type": "markdown",
   "metadata": {},
   "source": [
    "### update & predict"
   ]
  },
  {
   "cell_type": "code",
   "execution_count": 49,
   "metadata": {},
   "outputs": [],
   "source": [
    "user_vecs_u = copy.deepcopy(user_vecs)\n",
    "item_vecs_u = copy.deepcopy(item_vecs)\n",
    "s_user_u = copy.deepcopy(s_user)\n",
    "s_item_u = copy.deepcopy(s_item)\n",
    "ratings_u = copy.deepcopy(ratings)\n",
    "rate_lists_user_u = copy.deepcopy(rate_lists_user)\n",
    "rate_lists_item_u = copy.deepcopy(rate_lists_item)"
   ]
  },
  {
   "cell_type": "code",
   "execution_count": 30,
   "metadata": {},
   "outputs": [],
   "source": [
    "not_rating_list = []\n",
    "\n",
    "for i in range(n_user):\n",
    "    tmp = []\n",
    "    for j in range(n_item):\n",
    "        if j not in rate_lists_user_u:\n",
    "            tmp.append(j)\n",
    "    not_rating_list.append(tmp.copy())"
   ]
  },
  {
   "cell_type": "code",
   "execution_count": null,
   "metadata": {},
   "outputs": [],
   "source": [
    "def take_value(elem):\n",
    "    return elem[1]\n",
    "\n",
    "update_epoch = 100\n",
    "update_lr = 0.0001\n",
    "update_time_for_one_print = 0.0\n",
    "predicts = []\n",
    "    \n",
    "for i in range(n_test):\n",
    "    # predict\n",
    "    tmp = []\n",
    "    for j in not_rating_list[test[i][0]]:\n",
    "        tmp.append([item_dict_2[j], dot(user_vecs_u[test[i][0]], item_vecs_u[j])])\n",
    "    tmp.sort(key = take_value)\n",
    "\n",
    "    row = []\n",
    "    row.append(user_dict_2[test[i][0]]) # user_id\n",
    "    row.append(test[i][3]) # time\n",
    "\n",
    "    for j in range(100):\n",
    "        row.append(tmp[j][0])\n",
    "\n",
    "    predicts.append(row)\n",
    "\n",
    "    # update model\n",
    "    ratings_u[test[i][0]][test[i][1]] = 1.0\n",
    "\n",
    "    if test[i][1] not in rate_lists_user_u:\n",
    "        rate_lists_user_u.append(test[i][1])\n",
    "        not_rating_list[test[i][0]].remove(test[i][1])\n",
    "    if test[i][0] not in rate_lists_item_u:\n",
    "        rate_lists_item_u.append(test[i][0])\n",
    "        \n",
    "    start_update_time = time.time()\n",
    "\n",
    "    for epoch in range(update_epoch):\n",
    "        # update user vector\n",
    "        grad = gradient_user_u(test[i][0], alpha, lmd)\n",
    "        update_user_u(test[i][0], -1)\n",
    "        user_vecs_u[test[i][0]] -= update_lr * grad\n",
    "        update_user_u(test[i][0], 1)\n",
    "        # update item vector\n",
    "        grad = gradient_item_u(test[i][1], alpha, lmd)\n",
    "        update_item_u(test[i][1], -1)\n",
    "        item_vecs_u[test[i][1]] -= update_lr * grad\n",
    "        update_item_u(test[i][1], 1)\n",
    "        \n",
    "    update_time_for_one_print += time.time() - start_update_time\n",
    "\n",
    "    if i % 10 == 9:\n",
    "        in_acc = cal_insample_acc_u(n_test)\n",
    "        out_acc = cal_acc_u(n_test)\n",
    "        in_accs.append(in_acc)\n",
    "        out_accs.append(out_acc)\n",
    "        print(i+1, \": averge error(in):\", cal_insample_acc_u(1000), \"; averge error(out):\", cal_acc_u(1000))\n",
    "        print(\"time consumed:\", update_time_for_one_print)\n",
    "        update_time_for_one_print = 0.0"
   ]
  },
  {
   "cell_type": "code",
   "execution_count": null,
   "metadata": {},
   "outputs": [],
   "source": [
    "with open(\"perdict_yelp_online.csv\", \"w\", newline = \"\") as f:\n",
    "    w = csv.writer(f)\n",
    "    for row in predicts:\n",
    "        w.writerow(row)"
   ]
  },
  {
   "cell_type": "markdown",
   "metadata": {},
   "source": [
    "### test performance (in-sample after update)"
   ]
  },
  {
   "cell_type": "code",
   "execution_count": null,
   "metadata": {},
   "outputs": [],
   "source": [
    "predict = []\n",
    "rates = []\n",
    "\n",
    "# for i in range(n_train):\n",
    "#     rates.append(1.0)\n",
    "#     predict.append(dot(user_vecs_u[train[i][0]], item_vecs_u[train[i][1]]))\n",
    "    \n",
    "for i in range(n_test):\n",
    "    rates.append(1.0)\n",
    "    predict.append(dot(user_vecs_u[test[i][0]], item_vecs_u[test[i][1]]))"
   ]
  },
  {
   "cell_type": "code",
   "execution_count": null,
   "metadata": {},
   "outputs": [],
   "source": [
    "for i in range(30):\n",
    "    print(\"ans:\", rates[i], \"; predict:\", predict[i])"
   ]
  },
  {
   "cell_type": "code",
   "execution_count": null,
   "metadata": {},
   "outputs": [],
   "source": [
    "error = 0.0\n",
    "\n",
    "for i in range(len(rates)):\n",
    "    error += abs(rates[i] - predict[i])**2\n",
    "    \n",
    "print(\"averge error:\", error / len(rates))"
   ]
  },
  {
   "cell_type": "markdown",
   "metadata": {},
   "source": [
    "### plot"
   ]
  },
  {
   "cell_type": "code",
   "execution_count": null,
   "metadata": {},
   "outputs": [],
   "source": [
    "import matplotlib.pyplot as plt"
   ]
  },
  {
   "cell_type": "code",
   "execution_count": null,
   "metadata": {},
   "outputs": [],
   "source": [
    "# plt.plot(losses)\n",
    "# plt.xlabel(\"epoch\")\n",
    "# plt.ylabel(\"loss\")\n",
    "# plt.show()"
   ]
  },
  {
   "cell_type": "code",
   "execution_count": null,
   "metadata": {},
   "outputs": [],
   "source": [
    "plt.plot(in_accs)\n",
    "plt.plot(out_accs)\n",
    "plt.xlabel(\"epoch\")\n",
    "plt.ylabel(\"error\")\n",
    "plt.show()"
   ]
  }
 ],
 "metadata": {
  "kernelspec": {
   "display_name": "Python 3",
   "language": "python",
   "name": "python3"
  },
  "language_info": {
   "codemirror_mode": {
    "name": "ipython",
    "version": 3
   },
   "file_extension": ".py",
   "mimetype": "text/x-python",
   "name": "python",
   "nbconvert_exporter": "python",
   "pygments_lexer": "ipython3",
   "version": "3.5.2"
  }
 },
 "nbformat": 4,
 "nbformat_minor": 2
}
