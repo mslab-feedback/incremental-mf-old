{
 "cells": [
  {
   "cell_type": "code",
   "execution_count": 1,
   "metadata": {},
   "outputs": [],
   "source": [
    "import os\n",
    "import csv\n",
    "import numpy as np\n",
    "import pandas as pd\n",
    "from metrics import *\n",
    "\n",
    "def evaluate(predict_path, answer_path, average=False, is_target_with_header=False, is_ranked_list_with_header=False, ranked_list_cols=None):\n",
    "    \"\"\"\n",
    "    Parameters:\n",
    "    ----------\n",
    "    predict_path: path for predictions in csv format\n",
    "    answer_path:  path for answer in csv format\n",
    "    Format:\n",
    "        prediction: n*(2+k) 2d-array\n",
    "            n: number of test instances\n",
    "            k: number of items recommended\n",
    "            user_id, event_time, rec_1, rec_2, ... , rec_k\n",
    "        answer: n*k 2d-array\n",
    "            n: number of test instances\n",
    "            k: columns = [user_id, ans_id,..., event_time]\n",
    "    Return:\n",
    "    ----------\n",
    "    Dictionary: \n",
    "        type(key): str,\n",
    "        type(value): float/[float]\n",
    "        if average == True:\n",
    "            {'hr':score,'mrr':score,'ndcg':score}\n",
    "        else #average == False:\n",
    "            {'hr':[score...],'mrr':[score...],'ndcg':[score...]}\n",
    "    \"\"\"\n",
    "    \n",
    "    df_pre = pd.read_csv(predict_path, header=None)\n",
    "    df_ans = pd.read_csv(answer_path, header=None)\n",
    "\n",
    "    # drop [user_id, event_time]\n",
    "    if is_target_with_header:\n",
    "        targets = df_ans.loc[1:,1] # drop header and choose the column of targets\n",
    "    else:\n",
    "        targets = df_ans.loc[:,1] # drop header and choose the column of targets\n",
    "    \n",
    "    if is_ranked_list_with_header:\n",
    "        ranked_lists = df_pre.loc[1,:] # drop header\n",
    "    else:\n",
    "        ranked_lists = df_pre.loc[:,:] # drop header\n",
    "\n",
    "    if ranked_list_cols:\n",
    "        ranked_lists = ranked_lists.loc[:,ranked_list_cols]  # choose columns of ranked items\n",
    "\n",
    "    targets = targets.values.astype(int) # convert dataFrame to list\n",
    "    ranked_lists = ranked_lists.values.astype(int)\n",
    "    \n",
    "    # get scores of list/average\n",
    "    hr = get_hit_ratio(ranked_lists,targets,average)\n",
    "    mrr = get_MRR(ranked_lists,targets,average)\n",
    "    ndcg = get_NDCG(ranked_lists,targets,average)\n",
    "    return {'hr':hr,'mrr':mrr,'ndcg':ndcg}"
   ]
  },
  {
   "cell_type": "markdown",
   "metadata": {},
   "source": [
    "## movielens offline dim=10"
   ]
  },
  {
   "cell_type": "code",
   "execution_count": 2,
   "metadata": {},
   "outputs": [],
   "source": [
    "task      = 'BPR'\n",
    "dim_dir   = '10'\n",
    "train_dir = 'offline'\n",
    "file_name = '2.csv'\n",
    "file_path = os.path.join(task,dim_dir,train_dir,file_name)\n",
    "scores = evaluate(predict_path=file_path,\n",
    "                      answer_path='../data/movielens/movielens_offline_test.csv',\n",
    "                      average=True,\n",
    "                      is_target_with_header=False,\n",
    "                      is_ranked_list_with_header=False,\n",
    "                      ranked_list_cols=list(range(2,102)))"
   ]
  },
  {
   "cell_type": "code",
   "execution_count": 3,
   "metadata": {},
   "outputs": [
    {
     "data": {
      "text/plain": [
       "{'hr': 0.09836065573770492,\n",
       " 'mrr': 0.0031808275328899806,\n",
       " 'ndcg': 0.018987128106929027}"
      ]
     },
     "execution_count": 3,
     "metadata": {},
     "output_type": "execute_result"
    }
   ],
   "source": [
    "scores"
   ]
  },
  {
   "cell_type": "markdown",
   "metadata": {},
   "source": [
    "## movielens offline dim=100"
   ]
  },
  {
   "cell_type": "code",
   "execution_count": 4,
   "metadata": {},
   "outputs": [],
   "source": [
    "dim_dir   = '100'\n",
    "train_dir = 'off'\n",
    "file_name = '1.csv'\n",
    "file_path = os.path.join(task,dim_dir,train_dir,file_name)\n",
    "scores = evaluate(predict_path=file_path,\n",
    "                      answer_path='../data/movielens/movielens_offline_test.csv',\n",
    "                      average=True,\n",
    "                      is_target_with_header=False,\n",
    "                      is_ranked_list_with_header=False,\n",
    "                      ranked_list_cols=list(range(2,102)))"
   ]
  },
  {
   "cell_type": "code",
   "execution_count": 5,
   "metadata": {},
   "outputs": [
    {
     "data": {
      "text/plain": [
       "{'hr': 0.06721311475409836,\n",
       " 'mrr': 0.004718981635879682,\n",
       " 'ndcg': 0.01512139400312398}"
      ]
     },
     "execution_count": 5,
     "metadata": {},
     "output_type": "execute_result"
    }
   ],
   "source": [
    "scores"
   ]
  },
  {
   "cell_type": "markdown",
   "metadata": {},
   "source": [
    "## movielens online dim=10"
   ]
  },
  {
   "cell_type": "code",
   "execution_count": 6,
   "metadata": {},
   "outputs": [],
   "source": [
    "task      = 'BPR'\n",
    "dim_dir   = '10'\n",
    "train_dir = 'bu'\n",
    "file_name = '1.csv'\n",
    "file_path = os.path.join(task,dim_dir,train_dir,file_name)\n",
    "scores = evaluate(predict_path=file_path,\n",
    "                      answer_path='../data/movielens/movielens_online_test.csv',\n",
    "                      average=True,\n",
    "                      is_target_with_header=False,\n",
    "                      is_ranked_list_with_header=False,\n",
    "                      ranked_list_cols=list(range(2,102)))"
   ]
  },
  {
   "cell_type": "code",
   "execution_count": 7,
   "metadata": {},
   "outputs": [
    {
     "data": {
      "text/plain": [
       "{'hr': 0.11473621578738596,\n",
       " 'mrr': 0.008692539036542862,\n",
       " 'ndcg': 0.02708947402539777}"
      ]
     },
     "execution_count": 7,
     "metadata": {},
     "output_type": "execute_result"
    }
   ],
   "source": [
    "scores"
   ]
  },
  {
   "cell_type": "markdown",
   "metadata": {},
   "source": [
    "## movielens online dim=100"
   ]
  },
  {
   "cell_type": "code",
   "execution_count": 8,
   "metadata": {},
   "outputs": [],
   "source": [
    "task      = 'BPR'\n",
    "dim_dir   = '100'\n",
    "train_dir = 'bu'\n",
    "file_name = '1.csv'\n",
    "file_path = os.path.join(task,dim_dir,train_dir,file_name)\n",
    "scores = evaluate(predict_path=file_path,\n",
    "                      answer_path='../data/movielens/movielens_online_test.csv',\n",
    "                      average=True,\n",
    "                      is_target_with_header=False,\n",
    "                      is_ranked_list_with_header=False,\n",
    "                      ranked_list_cols=list(range(2,102)))"
   ]
  },
  {
   "cell_type": "code",
   "execution_count": 9,
   "metadata": {},
   "outputs": [
    {
     "data": {
      "text/plain": [
       "{'hr': 0.11275287584291947,\n",
       " 'mrr': 0.007282859096324698,\n",
       " 'ndcg': 0.025399761081154878}"
      ]
     },
     "execution_count": 9,
     "metadata": {},
     "output_type": "execute_result"
    }
   ],
   "source": [
    "scores"
   ]
  },
  {
   "cell_type": "markdown",
   "metadata": {},
   "source": [
    "## movielens online by user dim=10"
   ]
  },
  {
   "cell_type": "code",
   "execution_count": 10,
   "metadata": {},
   "outputs": [],
   "source": [
    "task      = 'BPR'\n",
    "dim_dir   = '10'\n",
    "train_dir = 'bubt_OK'\n",
    "file_name = '1.csv'\n",
    "file_path = os.path.join(task,dim_dir,train_dir,file_name)\n",
    "scores = evaluate(predict_path=file_path,\n",
    "                      answer_path='../data/movielens/movielens_online_by_user_test.csv',\n",
    "                      average=True,\n",
    "                      is_target_with_header=False,\n",
    "                      is_ranked_list_with_header=False,\n",
    "                      ranked_list_cols=list(range(2,102)))"
   ]
  },
  {
   "cell_type": "code",
   "execution_count": 11,
   "metadata": {},
   "outputs": [
    {
     "data": {
      "text/plain": [
       "{'hr': 0.08283452403938985,\n",
       " 'mrr': 0.00537203955619585,\n",
       " 'ndcg': 0.01842030284859138}"
      ]
     },
     "execution_count": 11,
     "metadata": {},
     "output_type": "execute_result"
    }
   ],
   "source": [
    "scores"
   ]
  },
  {
   "cell_type": "markdown",
   "metadata": {},
   "source": [
    "## movielens online by user dim=100"
   ]
  },
  {
   "cell_type": "code",
   "execution_count": 12,
   "metadata": {},
   "outputs": [],
   "source": [
    "task      = 'BPR'\n",
    "dim_dir   = '100'\n",
    "train_dir = 'btbu'\n",
    "file_name = '1.csv'\n",
    "file_path = os.path.join(task,dim_dir,train_dir,file_name)\n",
    "scores = evaluate(predict_path=file_path,\n",
    "                      answer_path='../data/movielens/movielens_online_by_user_test.csv',\n",
    "                      average=True,\n",
    "                      is_target_with_header=False,\n",
    "                      is_ranked_list_with_header=False,\n",
    "                      ranked_list_cols=list(range(2,102)))"
   ]
  },
  {
   "cell_type": "code",
   "execution_count": 13,
   "metadata": {},
   "outputs": [
    {
     "data": {
      "text/plain": [
       "{'hr': 0.08920641050395829,\n",
       " 'mrr': 0.00480765803292069,\n",
       " 'ndcg': 0.018822799571040754}"
      ]
     },
     "execution_count": 13,
     "metadata": {},
     "output_type": "execute_result"
    }
   ],
   "source": [
    "scores"
   ]
  },
  {
   "cell_type": "markdown",
   "metadata": {},
   "source": [
    "## yelp offline dim=10"
   ]
  },
  {
   "cell_type": "code",
   "execution_count": 14,
   "metadata": {},
   "outputs": [],
   "source": [
    "task      = 'BPR'\n",
    "dim_dir   = '10'\n",
    "train_dir = 'yelp'\n",
    "file_name = '1.csv'\n",
    "file_path = os.path.join(task,dim_dir,train_dir,file_name)\n",
    "scores = evaluate(predict_path=file_path,\n",
    "                  answer_path='../data/yelp/yelp_offline_test.csv',\n",
    "                  average=True,\n",
    "                  is_target_with_header=True,\n",
    "                  is_ranked_list_with_header=False,\n",
    "                  ranked_list_cols=list(range(2,102)))"
   ]
  },
  {
   "cell_type": "code",
   "execution_count": 15,
   "metadata": {},
   "outputs": [
    {
     "ename": "NameError",
     "evalue": "name 'score_list' is not defined",
     "output_type": "error",
     "traceback": [
      "\u001b[0;31m---------------------------------------------------------------------------\u001b[0m",
      "\u001b[0;31mNameError\u001b[0m                                 Traceback (most recent call last)",
      "\u001b[0;32m<ipython-input-15-0542c8f9de7c>\u001b[0m in \u001b[0;36m<module>\u001b[0;34m\u001b[0m\n\u001b[0;32m----> 1\u001b[0;31m \u001b[0mscore_list\u001b[0m\u001b[0;34m\u001b[0m\u001b[0;34m\u001b[0m\u001b[0m\n\u001b[0m",
      "\u001b[0;31mNameError\u001b[0m: name 'score_list' is not defined"
     ]
    }
   ],
   "source": [
    "score_list"
   ]
  },
  {
   "cell_type": "markdown",
   "metadata": {},
   "source": [
    "## yelp offline dim=100"
   ]
  },
  {
   "cell_type": "code",
   "execution_count": 16,
   "metadata": {},
   "outputs": [],
   "source": [
    "task      = 'BPR'\n",
    "dim_dir   = '100'\n",
    "train_dir = 'yelp'\n",
    "file_name = '1.csv'\n",
    "file_path = os.path.join(task,dim_dir,train_dir,file_name)\n",
    "scores = evaluate(predict_path=file_path,\n",
    "                  answer_path='../data/yelp/yelp_offline_test.csv',\n",
    "                  average=True,\n",
    "                  is_target_with_header=True,\n",
    "                  is_ranked_list_with_header=False,\n",
    "                  ranked_list_cols=list(range(2,102)))"
   ]
  },
  {
   "cell_type": "code",
   "execution_count": 17,
   "metadata": {},
   "outputs": [
    {
     "data": {
      "text/plain": [
       "{'hr': 0.1401979807281218,\n",
       " 'mrr': 0.019045672372325153,\n",
       " 'ndcg': 0.04077145703412531}"
      ]
     },
     "execution_count": 17,
     "metadata": {},
     "output_type": "execute_result"
    }
   ],
   "source": [
    "scores"
   ]
  },
  {
   "cell_type": "markdown",
   "metadata": {},
   "source": [
    "## yelp online dim=10"
   ]
  },
  {
   "cell_type": "code",
   "execution_count": 18,
   "metadata": {},
   "outputs": [],
   "source": [
    "task      = 'BPR'\n",
    "dim_dir   = '10'\n",
    "train_dir = 'yelp_on'\n",
    "file_name = '1.csv'\n",
    "file_path = os.path.join(task,dim_dir,train_dir,file_name)\n",
    "scores = evaluate(predict_path=file_path,\n",
    "                  answer_path='../data/yelp/yelp_online_test.csv',\n",
    "                  average=True,\n",
    "                  is_target_with_header=True,\n",
    "                  is_ranked_list_with_header=False,\n",
    "                  ranked_list_cols=list(range(2,102)))"
   ]
  },
  {
   "cell_type": "code",
   "execution_count": 19,
   "metadata": {},
   "outputs": [
    {
     "data": {
      "text/plain": [
       "{'hr': 0.11069392770590845,\n",
       " 'mrr': 0.008704767845994,\n",
       " 'ndcg': 0.026324881400650146}"
      ]
     },
     "execution_count": 19,
     "metadata": {},
     "output_type": "execute_result"
    }
   ],
   "source": [
    "scores"
   ]
  },
  {
   "cell_type": "markdown",
   "metadata": {},
   "source": [
    "## yelp online dim=100"
   ]
  },
  {
   "cell_type": "code",
   "execution_count": 20,
   "metadata": {},
   "outputs": [],
   "source": [
    "task      = 'BPR'\n",
    "dim_dir   = '100'\n",
    "train_dir = 'yelp_on'\n",
    "file_name = '1.csv'\n",
    "file_path = os.path.join(task,dim_dir,train_dir,file_name)\n",
    "scores = evaluate(predict_path=file_path,\n",
    "                  answer_path='../data/yelp/yelp_online_test.csv',\n",
    "                  average=True,\n",
    "                  is_target_with_header=True,\n",
    "                  is_ranked_list_with_header=False,\n",
    "                  ranked_list_cols=list(range(2,102)))\n",
    "\n",
    "score_list = evaluate(predict_path=file_path,\n",
    "                  answer_path='../data/yelp/yelp_online_test.csv',\n",
    "                  average=False,\n",
    "                  is_target_with_header=True,\n",
    "                  is_ranked_list_with_header=False,\n",
    "                  ranked_list_cols=list(range(2,102)))"
   ]
  },
  {
   "cell_type": "code",
   "execution_count": 21,
   "metadata": {},
   "outputs": [
    {
     "data": {
      "text/plain": [
       "{'hr': 0.12616763946251608,\n",
       " 'mrr': 0.010194955620921367,\n",
       " 'ndcg': 0.030296636022967297}"
      ]
     },
     "execution_count": 21,
     "metadata": {},
     "output_type": "execute_result"
    }
   ],
   "source": [
    "scores"
   ]
  },
  {
   "cell_type": "markdown",
   "metadata": {},
   "source": [
    "# plot"
   ]
  },
  {
   "cell_type": "code",
   "execution_count": 22,
   "metadata": {},
   "outputs": [],
   "source": [
    "from matplotlib import pyplot as plt\n",
    "%matplotlib inline"
   ]
  },
  {
   "cell_type": "code",
   "execution_count": 23,
   "metadata": {},
   "outputs": [],
   "source": [
    "def plot_result(score_list,bin_size=None,bin_count=None):\n",
    "    L = len(score_list)\n",
    "    if not bin_size:\n",
    "        bin_size = L//100\n",
    "    if not bin_count:\n",
    "        bin_count = L//1000\n",
    "    py = [np.mean(score_list[i:i+bin_size]) for i in range(0,L,bin_count)]\n",
    "    plt.plot(range(len(py)),py)\n",
    "    plt.show()\n"
   ]
  },
  {
   "cell_type": "code",
   "execution_count": 24,
   "metadata": {},
   "outputs": [
    {
     "data": {
      "image/png": "[encoded data removed]",
      "text/plain": [
       "<Figure size 432x288 with 1 Axes>"
      ]
     },
     "metadata": {
      "needs_background": "light"
     },
     "output_type": "display_data"
    },
    {
     "data": {
      "image/png": "[encoded data removed]",
      "text/plain": [
       "<Figure size 432x288 with 1 Axes>"
      ]
     },
     "metadata": {
      "needs_background": "light"
     },
     "output_type": "display_data"
    },
    {
     "data": {
      "image/png": "[encoded data removed]",
      "text/plain": [
       "<Figure size 432x288 with 1 Axes>"
      ]
     },
     "metadata": {
      "needs_background": "light"
     },
     "output_type": "display_data"
    }
   ],
   "source": [
    "plot_result(score_list['hr'],bin_size=10000, bin_count=1000)\n",
    "plot_result(score_list['mrr'],bin_size=10000, bin_count=1000)\n",
    "plot_result(score_list['ndcg'],bin_size=10000, bin_count=1000)"
   ]
  }
 ],
 "metadata": {
  "kernelspec": {
   "display_name": "Python 3",
   "language": "python",
   "name": "python3"
  },
  "language_info": {
   "codemirror_mode": {
    "name": "ipython",
    "version": 3
   },
   "file_extension": ".py",
   "mimetype": "text/x-python",
   "name": "python",
   "nbconvert_exporter": "python",
   "pygments_lexer": "ipython3",
   "version": "3.6.7"
  }
 },
 "nbformat": 4,
 "nbformat_minor": 2
}
