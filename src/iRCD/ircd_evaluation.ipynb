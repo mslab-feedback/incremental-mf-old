{
 "cells": [
  {
   "cell_type": "code",
   "execution_count": 68,
   "metadata": {},
   "outputs": [],
   "source": [
    "import csv\n",
    "import os\n",
    "import numpy as np\n",
    "import pandas as pd\n",
    "from metrics import *\n",
    "\n",
    "\n",
    "def evaluate(predict_path, answer_path, sort_by_col=None, average=False, is_target_with_header=False, is_ranked_list_with_header=False, ranked_list_cols=None, debug=False):\n",
    "    \"\"\"\n",
    "    Parameters:\n",
    "    ----------\n",
    "    predict_path: path for predictions in csv format\n",
    "    answer_path:  path for answer in csv format\n",
    "    Format:\n",
    "        prediction: n*(2+k) 2d-array\n",
    "            n: number of test instances\n",
    "            k: number of items recommended\n",
    "            user_id, event_time, rec_1, rec_2, ... , rec_k\n",
    "        answer: n*k 2d-array\n",
    "            n: number of test instances\n",
    "            k: columns = [user_id, ans_id,..., event_time]\n",
    "    Return:\n",
    "    ----------\n",
    "    Dictionary: \n",
    "        type(key): str,\n",
    "        type(value): float/[float]\n",
    "        if average == True:\n",
    "            {'hr':score,'mrr':score,'ndcg':score}\n",
    "        else #average == False:\n",
    "            {'hr':[score...],'mrr':[score...],'ndcg':[score...]}\n",
    "    \"\"\"\n",
    "    \n",
    "    df_pre = pd.read_csv(predict_path, header=None)\n",
    "    df_ans = pd.read_csv(answer_path, header=None)\n",
    "    if debug:\n",
    "        print(\"answer info:\",df_ans.shape,'\\n')\n",
    "        print(df_ans.head(3))\n",
    "        print(\"\\n------\\n\")\n",
    "        print(\"prediction info:\",df_pre.shape,'\\n')\n",
    "        print(df_pre.head(3))\n",
    "\n",
    "    # drop [user_id, event_time]\n",
    "    if is_target_with_header:\n",
    "        targets = df_ans.loc[1:,:] # drop header\n",
    "    else:\n",
    "        targets = df_ans.loc[:,:] # retain header\n",
    "    \n",
    "    if is_ranked_list_with_header:\n",
    "        ranked_lists = df_pre.loc[1,:] # drop header\n",
    "    else:\n",
    "        ranked_lists = df_pre.loc[:,:] # drop header\n",
    "\n",
    "    if sort_by_col == None:\n",
    "        targets = targets.loc[:,1]\n",
    "    else:\n",
    "        targets.sort_values(by=sort_by_col,inplace=True)\n",
    "        ranked_lists.sort_values(by=sort_by_col,inplace=True)\n",
    "        if debug:\n",
    "            print(\"\\n====================================================\\n\")\n",
    "            print(\"check sorting result\")\n",
    "            print(\"target (first, last):\",targets.head(1)[sort_by_col].values[0],targets.tail(1)[sort_by_col].values[0])\n",
    "            print(\"predict (first, last):\",ranked_lists.head(1)[sort_by_col].values[0],ranked_lists.tail(1)[sort_by_col].values[0])\n",
    "        targets = targets.loc[:,1]\n",
    "        \n",
    "    if ranked_list_cols:\n",
    "        ranked_lists = ranked_lists.loc[:,ranked_list_cols]  # choose columns of ranked items\n",
    "\n",
    "    targets = targets.values.astype(int) # convert dataFrame to list\n",
    "    ranked_lists = ranked_lists.values.astype(int)\n",
    "    if debug:\n",
    "        print(\"\\n====================================================\\n\")\n",
    "        print(\"targets info:\",targets.shape,targets.dtype,'\\n')\n",
    "        print(targets[:3])\n",
    "        print(\"\\n------\\n\")\n",
    "        print(\"\\nranked_lists info:\",ranked_lists.shape,ranked_lists.dtype,'\\n')\n",
    "        print(ranked_lists[:3])\n",
    "\n",
    "    # get scores of list/average\n",
    "    hr = get_hit_ratio(ranked_lists,targets,average)\n",
    "    mrr = get_MRR(ranked_lists,targets,average)\n",
    "    ndcg = get_NDCG(ranked_lists,targets,average)\n",
    "    return {'hr':hr,'mrr':mrr,'ndcg':ndcg}"
   ]
  },
  {
   "cell_type": "markdown",
   "metadata": {},
   "source": [
    "## movielens offline dim=10"
   ]
  },
  {
   "cell_type": "code",
   "execution_count": 70,
   "metadata": {},
   "outputs": [],
   "source": [
    "data_dir = 'data'\n",
    "prediction_dir =  os.path.join(data_dir,'prediction')\n",
    "answer_dir = os.path.join(data_dir,'movielens')\n",
    "task = 'iRCD'\n",
    "##\n",
    "prediction_file_name = 'predict_movielens_offline_10.csv'\n",
    "answer_file_name = 'movielens_offline_test.csv'\n",
    "##\n",
    "predict_path = os.path.join(prediction_dir,task,prediction_file_name)\n",
    "answer_path  = os.path.join(answer_dir,answer_file_name)\n",
    "\n",
    "\n",
    "score_list = evaluate(predict_path=predict_path,\n",
    "                      answer_path=answer_path,\n",
    "                      sort_by_col=0,\n",
    "                      average=True,\n",
    "                      is_target_with_header=False,\n",
    "                      is_ranked_list_with_header=False,\n",
    "                      debug=False,\n",
    "                      ranked_list_cols=list(range(2,100)))\n"
   ]
  },
  {
   "cell_type": "code",
   "execution_count": 71,
   "metadata": {},
   "outputs": [
    {
     "data": {
      "text/plain": [
       "{'hr': 0.0, 'mrr': 0.0, 'ndcg': 0.0}"
      ]
     },
     "execution_count": 71,
     "metadata": {},
     "output_type": "execute_result"
    }
   ],
   "source": [
    "score_list"
   ]
  },
  {
   "cell_type": "markdown",
   "metadata": {},
   "source": [
    "## movielens offline dim=100"
   ]
  },
  {
   "cell_type": "code",
   "execution_count": 13,
   "metadata": {},
   "outputs": [],
   "source": [
    "data_dir = 'data'\n",
    "prediction_dir =  os.path.join(data_dir,'prediction')\n",
    "answer_dir = os.path.join(data_dir,'movielens')\n",
    "task = 'iRCD'\n",
    "##\n",
    "prediction_file_name = 'predict_movielens_offline_100.csv'\n",
    "answer_file_name = 'movielens_offline_test.csv'\n",
    "##\n",
    "predict_path = os.path.join(prediction_dir,task,prediction_file_name)\n",
    "answer_path  = os.path.join(answer_dir,answer_file_name)\n",
    "\n",
    "scores = evaluate(predict_path=predict_path,\n",
    "                  answer_path=answer_path,\n",
    "                  sort=True,\n",
    "                  average=True,\n",
    "                  is_target_with_header=False,\n",
    "                  is_ranked_list_with_header=False,\n",
    "                  ranked_list_cols=list(range(2,102)))"
   ]
  },
  {
   "cell_type": "code",
   "execution_count": 14,
   "metadata": {},
   "outputs": [
    {
     "data": {
      "text/plain": [
       "{'hr': 0.0, 'mrr': 0.0, 'ndcg': 0.0}"
      ]
     },
     "execution_count": 14,
     "metadata": {},
     "output_type": "execute_result"
    }
   ],
   "source": [
    "scores"
   ]
  },
  {
   "cell_type": "markdown",
   "metadata": {},
   "source": [
    "## movielens online dim=10"
   ]
  },
  {
   "cell_type": "code",
   "execution_count": 15,
   "metadata": {},
   "outputs": [],
   "source": [
    "data_dir = 'data'\n",
    "prediction_dir =  os.path.join(data_dir,'prediction')\n",
    "answer_dir = os.path.join(data_dir,'movielens')\n",
    "task = 'iRCD'\n",
    "##\n",
    "prediction_file_name = 'predict_movielens_online_10.csv'\n",
    "answer_file_name = 'movielens_online_test.csv'\n",
    "##\n",
    "predict_path = os.path.join(prediction_dir,task,prediction_file_name)\n",
    "answer_path  = os.path.join(answer_dir,answer_file_name)\n",
    "\n",
    "scores = evaluate(predict_path=predict_path,\n",
    "                  answer_path=answer_path,\n",
    "                  sort=False,\n",
    "                  average=True,\n",
    "                  is_target_with_header=False,\n",
    "                  is_ranked_list_with_header=False,\n",
    "                  ranked_list_cols=list(range(2,102)))"
   ]
  },
  {
   "cell_type": "code",
   "execution_count": 16,
   "metadata": {},
   "outputs": [
    {
     "data": {
      "text/plain": [
       "{'hr': 0.0, 'mrr': 0.0, 'ndcg': 0.0}"
      ]
     },
     "execution_count": 16,
     "metadata": {},
     "output_type": "execute_result"
    }
   ],
   "source": [
    "scores"
   ]
  },
  {
   "cell_type": "markdown",
   "metadata": {},
   "source": [
    "## movielens online dim=100"
   ]
  },
  {
   "cell_type": "code",
   "execution_count": 31,
   "metadata": {},
   "outputs": [],
   "source": [
    "data_dir = 'data'\n",
    "prediction_dir =  os.path.join(data_dir,'prediction')\n",
    "answer_dir = os.path.join(data_dir,'movielens')\n",
    "task = 'iRCD'\n",
    "##\n",
    "prediction_file_name = 'predict_movielens_online_10.csv'\n",
    "answer_file_name = 'movielens_online_test.csv'\n",
    "##\n",
    "predict_path = os.path.join(prediction_dir,task,prediction_file_name)\n",
    "answer_path  = os.path.join(answer_dir,answer_file_name)\n",
    "\n",
    "scores = evaluate(predict_path=predict_path,\n",
    "                  answer_path=answer_path,\n",
    "                  sort=False,\n",
    "                  average=True,\n",
    "                  is_target_with_header=False,\n",
    "                  is_ranked_list_with_header=False,\n",
    "                  ranked_list_cols=list(range(2,102)))\n",
    "\n",
    "scores = evaluate(predict_path='./predictions/predict_movielens_online_100.csv',\n",
    "                  answer_path='../data/movielens/movielens_offline_test.csv',\n",
    "                  sort=False,\n",
    "                  average=True,\n",
    "                  is_target_with_header=False,\n",
    "                  is_ranked_list_with_header=False,\n",
    "                  ranked_list_cols=list(range(2,102)))"
   ]
  },
  {
   "cell_type": "code",
   "execution_count": 32,
   "metadata": {},
   "outputs": [
    {
     "data": {
      "text/plain": [
       "{'hr': 0.006557377049180328, 'mrr': 0.0005044928975356805, 'ndcg': 0.0}"
      ]
     },
     "execution_count": 32,
     "metadata": {},
     "output_type": "execute_result"
    }
   ],
   "source": [
    "scores"
   ]
  },
  {
   "cell_type": "markdown",
   "metadata": {},
   "source": [
    "## yelp offline dim=10"
   ]
  },
  {
   "cell_type": "code",
   "execution_count": null,
   "metadata": {},
   "outputs": [],
   "source": [
    "scores = evaluate(predict_path='./predictions/predict_yelp_offline_10.csv',\n",
    "                  answer_path='../data/yelp/yelp_offline_test.csv',\n",
    "                  sort=False,\n",
    "                  average=True,\n",
    "                  is_target_with_header=True,\n",
    "                  is_ranked_list_with_header=False,\n",
    "                  ranked_list_cols=list(range(2,102)))"
   ]
  },
  {
   "cell_type": "code",
   "execution_count": null,
   "metadata": {},
   "outputs": [],
   "source": [
    "scores"
   ]
  },
  {
   "cell_type": "markdown",
   "metadata": {},
   "source": [
    "## yelp offline dim=100"
   ]
  },
  {
   "cell_type": "code",
   "execution_count": 36,
   "metadata": {},
   "outputs": [],
   "source": [
    "scores = evaluate(predict_path='./predictions/predict_yelp_offline_100.csv',\n",
    "                  answer_path='../data/yelp/yelp_offline_test.csv',\n",
    "                  sort=False,\n",
    "                  average=True,\n",
    "                  is_target_with_header=True,\n",
    "                  is_ranked_list_with_header=False,\n",
    "                  ranked_list_cols=list(range(2,102)))"
   ]
  },
  {
   "cell_type": "code",
   "execution_count": 37,
   "metadata": {},
   "outputs": [
    {
     "data": {
      "text/plain": [
       "{'hr': 0.0015128095504324663, 'mrr': 3.562261743243075e-05, 'ndcg': 0.0}"
      ]
     },
     "execution_count": 37,
     "metadata": {},
     "output_type": "execute_result"
    }
   ],
   "source": [
    "scores"
   ]
  },
  {
   "cell_type": "markdown",
   "metadata": {},
   "source": [
    "## yelp online dim=10"
   ]
  },
  {
   "cell_type": "code",
   "execution_count": null,
   "metadata": {},
   "outputs": [],
   "source": [
    "scores = evaluate(predict_path='./predictions/predict_yelp_online_100.csv',\n",
    "                  answer_path='yelp_online_test.csv',\n",
    "                  sort=False,\n",
    "                  average=True,\n",
    "                  is_target_with_header=True,\n",
    "                  is_ranked_list_with_header=False,\n",
    "                  ranked_list_cols=list(range(2,102)))"
   ]
  },
  {
   "cell_type": "code",
   "execution_count": null,
   "metadata": {},
   "outputs": [],
   "source": [
    "scores"
   ]
  },
  {
   "cell_type": "markdown",
   "metadata": {},
   "source": [
    "## yelp online dim=100"
   ]
  },
  {
   "cell_type": "code",
   "execution_count": null,
   "metadata": {},
   "outputs": [],
   "source": [
    "scores = evaluate(predict_path='./predictions/predict_yelp_online_100.csv',\n",
    "                  answer_path='yelp_online_test.csv',\n",
    "                  sort=False,\n",
    "                  average=True,\n",
    "                  is_target_with_header=True,\n",
    "                  is_ranked_list_with_header=False,\n",
    "                  ranked_list_cols=list(range(2,102)))"
   ]
  },
  {
   "cell_type": "code",
   "execution_count": null,
   "metadata": {},
   "outputs": [],
   "source": [
    "scores"
   ]
  },
  {
   "cell_type": "markdown",
   "metadata": {},
   "source": [
    "# plot"
   ]
  },
  {
   "cell_type": "code",
   "execution_count": 39,
   "metadata": {},
   "outputs": [],
   "source": [
    "from matplotlib import pyplot as plt\n",
    "%matplotlib inline"
   ]
  },
  {
   "cell_type": "code",
   "execution_count": 40,
   "metadata": {},
   "outputs": [],
   "source": [
    "def plot_result(score_list,bin_size=None,bin_count=None):\n",
    "    L = len(score_list)\n",
    "    if not bin_size:\n",
    "        bin_size = L//100\n",
    "    if not bin_count:\n",
    "        bin_count = L//1000\n",
    "    py = [np.mean(score_list[i:i+bin_size]) for i in range(0,L,bin_count)]\n",
    "    plt.plot(range(len(py)),py)\n",
    "    plt.show()\n"
   ]
  },
  {
   "cell_type": "code",
   "execution_count": 83,
   "metadata": {},
   "outputs": [
    {
     "data": {
      "image/png": "[encoded data removed]",
      "text/plain": [
       "<Figure size 432x288 with 1 Axes>"
      ]
     },
     "metadata": {
      "needs_background": "light"
     },
     "output_type": "display_data"
    },
    {
     "data": {
      "image/png": "[encoded data removed]",
      "text/plain": [
       "<Figure size 432x288 with 1 Axes>"
      ]
     },
     "metadata": {
      "needs_background": "light"
     },
     "output_type": "display_data"
    },
    {
     "data": {
      "image/png": "[encoded data removed]",
      "text/plain": [
       "<Figure size 432x288 with 1 Axes>"
      ]
     },
     "metadata": {
      "needs_background": "light"
     },
     "output_type": "display_data"
    }
   ],
   "source": [
    "plotResult(score_list['hr'],bin_size=10000, bin_count=1000)\n",
    "plotResult(score_list['mrr'],bin_size=10000, bin_count=1000)\n",
    "plotResult(score_list['ndcg'],bin_size=10000, bin_count=1000)"
   ]
  }
 ],
 "metadata": {
  "kernelspec": {
   "display_name": "Python 3",
   "language": "python",
   "name": "python3"
  },
  "language_info": {
   "codemirror_mode": {
    "name": "ipython",
    "version": 3
   },
   "file_extension": ".py",
   "mimetype": "text/x-python",
   "name": "python",
   "nbconvert_exporter": "python",
   "pygments_lexer": "ipython3",
   "version": "3.6.7"
  }
 },
 "nbformat": 4,
 "nbformat_minor": 2
}
