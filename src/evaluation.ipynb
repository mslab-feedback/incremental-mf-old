{
 "cells": [
  {
   "cell_type": "code",
   "execution_count": 25,
   "metadata": {},
   "outputs": [],
   "source": [
    "import csv\n",
    "import numpy as np\n",
    "import pandas as pd\n",
    "from metrics import *\n",
    "\n",
    "def evaluate(predict_path, answer_path, average=False, with_header=False):\n",
    "    \"\"\"\n",
    "    Parameters:\n",
    "    ----------\n",
    "    predict_path: path for predictions in csv format\n",
    "    answer_path:  path for answer in csv format\n",
    "    Format:\n",
    "        prediction: n*(2+k) 2d-array\n",
    "            n: number of test instances\n",
    "            k: number of items recommended\n",
    "            user_id, event_time, rec_1, rec_2, ... , rec_k\n",
    "        answer: n*k 2d-array\n",
    "            n: number of test instances\n",
    "            k: columns = [user_id, ans_id,..., event_time]\n",
    "    Return:\n",
    "    ----------\n",
    "    Dictionary: \n",
    "        type(key): str,\n",
    "        type(value): float/[float]\n",
    "        if average == True:\n",
    "            {'hr':score,'mrr':score,'ndcg':score}\n",
    "        else #average == False:\n",
    "            {'hr':[score...],'mrr':[score...],'ndcg':[score...]}\n",
    "    \"\"\"\n",
    "    \n",
    "    df_pre = pd.read_csv(predict_path, header=None)\n",
    "    df_ans = pd.read_csv(answer_path, header=None)\n",
    "\n",
    "    # drop [user_id, event_time]\n",
    "    if with_header:\n",
    "        targets = df_ans.loc[1:,1].values.astype(int) # drop header and choose the column of targets\n",
    "        ranked_lists = df_pre.loc[:,:].values.astype(int) # drop header and choose columns of ranked items\n",
    "    else:\n",
    "        targets = df_ans.loc[:,1].values.astype(int) # drop header and choose the column of targets\n",
    "        ranked_lists = df_pre.loc[:,:].values.astype(int) # drop header and choose columns of ranked items\n",
    "\n",
    "    # get scores of list/average\n",
    "    hr = get_hit_ratio(ranked_lists,targets,average)\n",
    "    mrr = get_MRR(ranked_lists,targets,average)\n",
    "    ndcg = get_NDCG(ranked_lists,targets,average)\n",
    "    return {'hr':hr,'mrr':mrr,'ndcg':ndcg}"
   ]
  },
  {
   "cell_type": "code",
   "execution_count": 26,
   "metadata": {},
   "outputs": [
    {
     "data": {
      "text/plain": [
       "{'hr': 0.13507640145179825,\n",
       " 'mrr': 0.011133986814945774,\n",
       " 'ndcg': 0.03270890174077144}"
      ]
     },
     "execution_count": 26,
     "metadata": {},
     "output_type": "execute_result"
    }
   ],
   "source": [
    "evaluate('../data/yelp_online_prediciton_10.csv','../data/yelp/yelp_online_test.csv',average=True,with_header=True)"
   ]
  }
 ],
 "metadata": {
  "kernelspec": {
   "display_name": "Python 3",
   "language": "python",
   "name": "python3"
  },
  "language_info": {
   "codemirror_mode": {
    "name": "ipython",
    "version": 3
   },
   "file_extension": ".py",
   "mimetype": "text/x-python",
   "name": "python",
   "nbconvert_exporter": "python",
   "pygments_lexer": "ipython3",
   "version": "3.6.7"
  }
 },
 "nbformat": 4,
 "nbformat_minor": 2
}
